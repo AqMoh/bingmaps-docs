{
 "cells": [
  {
   "cell_type": "code",
   "execution_count": 1,
   "metadata": {},
   "outputs": [],
   "source": [
    "data = '''### [Response Data](geocode-dataflow-response-description.md)\n",
    "### [Walkthrough](geocode-dataflow-walkthrough.md)\n",
    "### [Sample Code](geocode-dataflow-sample-code.md)\n",
    "### [Data Schema v1.0](geocode-dataflow-data-schema-version-1-0.md)\n",
    "### [Data Schema  v2.0](geocode-dataflow-data-schema-version-2-0.md)\n",
    "### [Sample Input and Output v1.0](geocode-dataflow-sample-input-and-output-data-version-1-0.md)\n",
    "### [Sample Input and Output v2.0](geocode-dataflow-sample-input-and-output-data-version-2-0.md)\n",
    "## [Data Source Management API](data-source-management-api.md)\n",
    "### [Load Data Source Dataflow](load-data-source-dataflow.md)\n",
    "#### [Create a Load Data Source Job](create-a-load-data-source-job-and-input-entity-data.md)\n",
    "#### [Get Load Data Source Status](get-load-data-source-status.md)\n",
    "#### [Publish a Staged Data Source](publish-a-staged-data-source.md)\n",
    "#### [Response Data](load-data-source-dataflow-response-description.md)\n",
    "#### [Data Schema and Sample Input](load-data-source-data-schema-and-sample-input.md)\n",
    "#### [Geography Types](geography-types.md)\n",
    "#### [Helpful Tips for Entity Data](helpful-tips-for-entity-data.md)\n",
    "#### [C# Sample Code](load-data-source-dataflow-sample-code-csharp.md)\n",
    "#### [VB Sample Code](load-data-source-dataflow-sample-code-vb.md)\n",
    "### [Get Data Source Information](get-data-source-information.md)\n",
    "### [Download a Data Source Dataflow](download-a-data-source-dataflow.md)\n",
    "#### [Create a Download Job](create-a-download-job.md)\n",
    "#### [Get Download Data Source Job Status](get-download-data-source-job-status.md)\n",
    "#### [Get Downloaded Data](get-downloaded-data.md)\n",
    "#### [Walkthrough](download-data-source-walkthrough.md)\n",
    "#### [Response Data](download-data-source-dataflow-response-description.md)\n",
    "### [Make a Data Source Public](make-a-data-source-public.md)\n",
    "### [Get All Public Data Sources](get-all-public-data-sources.md)\n",
    "### [Rollback a Data Source Dataflow](rollback-a-data-source-dataflow.md)\n",
    "### [Delete a Data Source](delete-a-data-source.md)\n",
    "## [Query API](query-api.md)\n",
    "### [Query by Area](query-by-area.md)\n",
    "### [Query Near a Route](query-near-a-route.md)\n",
    "### [Query by Property](query-by-property.md)\n",
    "### [Query by ID](query-by-id.md)\n",
    "### [Query Options](query-options.md)\n",
    "### [Response Data](query-response-description.md)\n",
    "### [C# Sample Code](query-api-sample-code-csharp.md)\n",
    "### [VB Sample Code](query-api-sample-code-vb.md)\n",
    "## [Geodata API](geodata-api.md)\n",
    "## [Release History](release-history.md)\n",
    "## [Developer Resources](developer-resources.md)'''"
   ]
  },
  {
   "cell_type": "code",
   "execution_count": 2,
   "metadata": {},
   "outputs": [],
   "source": [
    "import re"
   ]
  },
  {
   "cell_type": "code",
   "execution_count": 29,
   "metadata": {},
   "outputs": [],
   "source": [
    "files = re.findall('\\(([\\.\\-\\w]+)\\)', data)"
   ]
  },
  {
   "cell_type": "code",
   "execution_count": 30,
   "metadata": {},
   "outputs": [
    {
     "data": {
      "text/plain": [
       "['developer-resources.md']"
      ]
     },
     "execution_count": 30,
     "metadata": {},
     "output_type": "execute_result"
    }
   ],
   "source": [
    "files"
   ]
  },
  {
   "cell_type": "code",
   "execution_count": null,
   "metadata": {},
   "outputs": [],
   "source": []
  }
 ],
 "metadata": {
  "kernelspec": {
   "display_name": "Python 3",
   "language": "python",
   "name": "python3"
  },
  "language_info": {
   "codemirror_mode": {
    "name": "ipython",
    "version": 3
   },
   "file_extension": ".py",
   "mimetype": "text/x-python",
   "name": "python",
   "nbconvert_exporter": "python",
   "pygments_lexer": "ipython3",
   "version": "3.6.5"
  }
 },
 "nbformat": 4,
 "nbformat_minor": 2
}
